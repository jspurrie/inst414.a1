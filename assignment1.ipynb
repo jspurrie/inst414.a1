{
 "cells": [
  {
   "cell_type": "code",
   "execution_count": 129,
   "id": "20fa1b65",
   "metadata": {},
   "outputs": [],
   "source": [
    "import requests \n",
    "import json"
   ]
  },
  {
   "cell_type": "code",
   "execution_count": 133,
   "id": "c54ebacf",
   "metadata": {},
   "outputs": [
    {
     "data": {
      "text/plain": [
       "[(1, 24.897),\n",
       " (1, 24.937),\n",
       " (1, 24.402),\n",
       " (2, 20.731),\n",
       " (3, 18.281),\n",
       " (4, 30.001),\n",
       " (4, 29.942),\n",
       " (5, 18.798),\n",
       " (6, 22.173),\n",
       " (6, 21.966),\n",
       " (6, 21.941),\n",
       " (7, 27.009),\n",
       " (7, 26.93),\n",
       " (8, 21.468),\n",
       " (8, 20.722),\n",
       " (9, 24.217),\n",
       " (9, 23.704),\n",
       " (10, 29.395),\n",
       " (10, 29.296),\n",
       " (10, 28.709),\n",
       " (11, 22.022),\n",
       " (11, 21.444),\n",
       " (11, 21.319),\n",
       " (12, 35.266),\n",
       " (13, 21.351),\n",
       " (13, 21.228),\n",
       " (14, 22.882),\n",
       " (14, 22.322),\n",
       " (15, 19.634),\n",
       " (15, 19.61),\n",
       " (15, 19.655),\n",
       " (15, 14.113),\n",
       " (16, 23.791),\n",
       " (16, 24.091),\n",
       " (17, 29.407),\n",
       " (17, 29.775),\n",
       " (18, 24.308),\n",
       " (19, 23.866),\n",
       " (19, 32.254),\n",
       " (20, 22.487),\n",
       " (21, 30.942),\n",
       " (21, 31.682),\n",
       " (21, 24.102),\n",
       " (22, 22.735)]"
      ]
     },
     "execution_count": 133,
     "metadata": {},
     "output_type": "execute_result"
    }
   ],
   "source": [
    "url_part1 = \"http://ergast.com/api/f1/2022/\"\n",
    "url_part2 = \"/drivers/max_verstappen/pitstops.json\"\n",
    "verstappen = []\n",
    "i=1\n",
    "while i < 23:\n",
    "    url = url_part1+str(i)+url_part2\n",
    "    ver = requests.get(url)\n",
    "    verdat = ver.json()\n",
    "    for j in verdat['MRData']['RaceTable']['Races'][0]['PitStops']:\n",
    "        if j['duration'].find(\":\")>0:\n",
    "            continue\n",
    "        else:\n",
    "            verstappen.append(tuple([i,float(j['duration'])]))\n",
    "    i+=1\n",
    "verstappen"
   ]
  },
  {
   "cell_type": "code",
   "execution_count": 135,
   "id": "68a5db3f",
   "metadata": {},
   "outputs": [
    {
     "data": {
      "text/plain": [
       "[(1, 25.012),\n",
       " (1, 24.527),\n",
       " (1, 24.613),\n",
       " (2, 21.038),\n",
       " (3, 17.973),\n",
       " (4, 31.794),\n",
       " (4, 30.042),\n",
       " (4, 36.56),\n",
       " (5, 19.697),\n",
       " (6, 21.794),\n",
       " (7, 25.71),\n",
       " (7, 28.034),\n",
       " (8, 23.212),\n",
       " (9, 26.199),\n",
       " (10, 28.805),\n",
       " (11, 21.532),\n",
       " (11, 21.319),\n",
       " (11, 21.65),\n",
       " (13, 21.775),\n",
       " (13, 21.972),\n",
       " (13, 21.544),\n",
       " (14, 24.198),\n",
       " (14, 23.189),\n",
       " (14, 23.334),\n",
       " (15, 19.08),\n",
       " (15, 19.084),\n",
       " (15, 19.576),\n",
       " (15, 14.008),\n",
       " (16, 23.531),\n",
       " (16, 23.904),\n",
       " (16, 23.719),\n",
       " (17, 32.058),\n",
       " (18, 25.899),\n",
       " (19, 24.314),\n",
       " (19, 23.755),\n",
       " (20, 22.193),\n",
       " (21, 30.08),\n",
       " (21, 23.172),\n",
       " (21, 23.124),\n",
       " (22, 22.21)]"
      ]
     },
     "execution_count": 135,
     "metadata": {},
     "output_type": "execute_result"
    }
   ],
   "source": [
    "lec_url_part2 = \"/drivers/leclerc/pitstops.json\"\n",
    "leclerc = []\n",
    "k=1\n",
    "while k < 23:\n",
    "    lec_url = url_part1+str(k)+lec_url_part2\n",
    "    lec = requests.get(lec_url)\n",
    "    lecdat = lec.json()\n",
    "    for line in lecdat['MRData']['RaceTable']['Races'][0]['PitStops']:\n",
    "        if line['duration'].find(\":\")>0:\n",
    "            continue\n",
    "        else:\n",
    "            leclerc.append(tuple([k,float(line['duration'])]))\n",
    "    k+=1\n",
    "    #DNF on Race 12\n",
    "    if k == 12:\n",
    "        k+=1\n",
    "leclerc\n"
   ]
  },
  {
   "cell_type": "code",
   "execution_count": 136,
   "id": "51f4f3ce",
   "metadata": {},
   "outputs": [
    {
     "data": {
      "text/plain": [
       "[(1, 25.046),\n",
       " (1, 24.173),\n",
       " (1, 24.947),\n",
       " (2, 20.481),\n",
       " (3, 17.434),\n",
       " (4, 30.366),\n",
       " (4, 29.627),\n",
       " (5, 18.519),\n",
       " (5, 18.433),\n",
       " (6, 22.032),\n",
       " (6, 21.619),\n",
       " (6, 21.694),\n",
       " (7, 24.409),\n",
       " (7, 24.536),\n",
       " (8, 23.379),\n",
       " (8, 22.349),\n",
       " (10, 37.302),\n",
       " (10, 28.155),\n",
       " (11, 23.681),\n",
       " (12, 38.061),\n",
       " (13, 21.118),\n",
       " (13, 21.167),\n",
       " (14, 22.349),\n",
       " (14, 22.65),\n",
       " (15, 18.835),\n",
       " (15, 18.738),\n",
       " (15, 19.25),\n",
       " (15, 14.113),\n",
       " (16, 23.698),\n",
       " (16, 23.299),\n",
       " (17, 29.55),\n",
       " (18, 25.322),\n",
       " (19, 23.403),\n",
       " (19, 24.801),\n",
       " (20, 24.892),\n",
       " (21, 22.869),\n",
       " (21, 23.152),\n",
       " (22, 21.36),\n",
       " (22, 21.367)]"
      ]
     },
     "execution_count": 136,
     "metadata": {},
     "output_type": "execute_result"
    }
   ],
   "source": [
    "per_url_part2 = \"/drivers/perez/pitstops.json\"\n",
    "perez = []\n",
    "m=1\n",
    "while m < 23:\n",
    "    per_url = url_part1+str(m)+per_url_part2\n",
    "    per = requests.get(per_url)\n",
    "    perdat = per.json()\n",
    "    for line in perdat['MRData']['RaceTable']['Races'][0]['PitStops']:\n",
    "        if line['duration'].find(\":\")>0:\n",
    "            continue\n",
    "        else:\n",
    "            perez.append(tuple([m,float(line['duration'])]))\n",
    "    m+=1\n",
    "    #DNF on Race 9\n",
    "    if m == 9:\n",
    "        m+=1\n",
    "    \n",
    "perez"
   ]
  },
  {
   "cell_type": "code",
   "execution_count": 137,
   "id": "71c97d91",
   "metadata": {},
   "outputs": [
    {
     "data": {
      "text/plain": [
       "[(1, 25.888),\n",
       " (1, 25.334),\n",
       " (1, 25.574),\n",
       " (2, 21.415),\n",
       " (3, 18.479),\n",
       " (4, 31.079),\n",
       " (5, 19.035),\n",
       " (6, 22.154),\n",
       " (6, 22.039),\n",
       " (6, 22.815),\n",
       " (7, 25.352),\n",
       " (8, 20.538),\n",
       " (8, 20.527),\n",
       " (9, 23.951),\n",
       " (9, 24.069),\n",
       " (11, 38.201),\n",
       " (11, 21.731),\n",
       " (12, 38.277),\n",
       " (13, 22.763),\n",
       " (13, 21.743),\n",
       " (14, 22.825),\n",
       " (14, 22.977),\n",
       " (15, 19.359),\n",
       " (15, 20.742),\n",
       " (15, 21.363),\n",
       " (16, 25.075),\n",
       " (16, 24.114),\n",
       " (17, 30.378),\n",
       " (17, 29.713),\n",
       " (17, 33.211),\n",
       " (17, 29.893),\n",
       " (18, 28.728),\n",
       " (19, 30.038),\n",
       " (19, 24.509),\n",
       " (19, 23.947),\n",
       " (20, 22.795),\n",
       " (20, 23.118),\n",
       " (21, 23.521),\n",
       " (21, 23.48),\n",
       " (22, 24.243),\n",
       " (22, 27.931)]"
      ]
     },
     "execution_count": 137,
     "metadata": {},
     "output_type": "execute_result"
    }
   ],
   "source": [
    "rus_url_part2 = \"/drivers/russell/pitstops.json\"\n",
    "russell = []\n",
    "n=1\n",
    "while n < 23:\n",
    "    rus_url = url_part1+str(n)+rus_url_part2\n",
    "    rus = requests.get(rus_url)\n",
    "    rusdat = rus.json()\n",
    "    for line in rusdat['MRData']['RaceTable']['Races'][0]['PitStops']:\n",
    "        if line['duration'].find(\":\")>0:\n",
    "            continue\n",
    "        else:\n",
    "            russell.append(tuple([n,float(line['duration'])]))\n",
    "    n+=1\n",
    "    #DNF on Race 10\n",
    "    if n == 10:\n",
    "        n+=1\n",
    "    \n",
    "russell"
   ]
  },
  {
   "cell_type": "code",
   "execution_count": 138,
   "id": "ddfd12bf",
   "metadata": {},
   "outputs": [
    {
     "data": {
      "text/plain": [
       "[(1, 24.666),\n",
       " (1, 24.438),\n",
       " (1, 24.287),\n",
       " (2, 21.521),\n",
       " (5, 22.063),\n",
       " (6, 22.341),\n",
       " (6, 21.867),\n",
       " (6, 22.302),\n",
       " (7, 24.666),\n",
       " (9, 24.215),\n",
       " (9, 24.881),\n",
       " (10, 28.574),\n",
       " (10, 28.435),\n",
       " (11, 21.212),\n",
       " (11, 21.492),\n",
       " (12, 41.458),\n",
       " (12, 42.292),\n",
       " (13, 22.82),\n",
       " (13, 23.456),\n",
       " (14, 22.543),\n",
       " (14, 22.75),\n",
       " (15, 29.705),\n",
       " (15, 19.493),\n",
       " (15, 21.164),\n",
       " (16, 23.728),\n",
       " (16, 24.525),\n",
       " (17, 30.603),\n",
       " (20, 23.469),\n",
       " (21, 25.206),\n",
       " (21, 23.483),\n",
       " (21, 23.816),\n",
       " (22, 21.93),\n",
       " (22, 21.575)]"
      ]
     },
     "execution_count": 138,
     "metadata": {},
     "output_type": "execute_result"
    }
   ],
   "source": [
    "sai_url_part2 = \"/drivers/sainz/pitstops.json\"\n",
    "sainz = []\n",
    "o=1\n",
    "while o < 23:\n",
    "    sai_url = url_part1+str(o)+sai_url_part2\n",
    "    sai = requests.get(sai_url)\n",
    "    saidat = sai.json()\n",
    "    for line in saidat['MRData']['RaceTable']['Races'][0]['PitStops']:\n",
    "        if line['duration'].find(\":\")>0:\n",
    "            continue\n",
    "        else:\n",
    "            sainz.append(tuple([o,float(line['duration'])]))\n",
    "    o+=1\n",
    "    #DNF on Race 3,4,8,18,19\n",
    "    if o == 3 or o ==18:\n",
    "        o+=2\n",
    "    if o == 8:\n",
    "        o+=1\n",
    "sainz"
   ]
  },
  {
   "cell_type": "code",
   "execution_count": 128,
   "id": "534aab13",
   "metadata": {},
   "outputs": [
    {
     "data": {
      "text/plain": [
       "[(1, 25.201),\n",
       " (1, 25.796),\n",
       " (1, 25.579),\n",
       " (2, 21.788),\n",
       " (3, 17.877),\n",
       " (4, 32.74),\n",
       " (5, 18.82),\n",
       " (6, 31.054),\n",
       " (6, 22.105),\n",
       " (6, 22.241),\n",
       " (7, 24.796),\n",
       " (7, 24.507),\n",
       " (8, 21.47),\n",
       " (8, 20.831),\n",
       " (9, 23.845),\n",
       " (9, 23.841),\n",
       " (10, 29.837),\n",
       " (10, 28.996),\n",
       " (11, 23.026),\n",
       " (11, 22.697),\n",
       " (12, 37.189),\n",
       " (13, 21.699),\n",
       " (13, 22.095),\n",
       " (15, 19.046),\n",
       " (15, 19.164),\n",
       " (15, 14.155),\n",
       " (16, 24.282),\n",
       " (17, 41.019),\n",
       " (18, 25.059),\n",
       " (19, 24.362),\n",
       " (19, 24.135),\n",
       " (20, 23.194),\n",
       " (21, 24.081),\n",
       " (21, 23.415),\n",
       " (22, 21.27)]"
      ]
     },
     "execution_count": 128,
     "metadata": {},
     "output_type": "execute_result"
    }
   ],
   "source": [
    "ham_url_part2 = \"/drivers/hamilton/pitstops.json\"\n",
    "hamilton = []\n",
    "p=1\n",
    "while p < 23:\n",
    "    ham_url = url_part1+str(p)+ham_url_part2\n",
    "    ham = requests.get(ham_url)\n",
    "    hamdat = ham.json()\n",
    "    for line in hamdat['MRData']['RaceTable']['Races'][0]['PitStops']:\n",
    "        if line['duration'].find(\":\")>0:\n",
    "            continue\n",
    "        else:\n",
    "            hamilton.append(tuple([p,float(line['duration'])]))\n",
    "    p+=1\n",
    "    #DNF on Race 14\n",
    "    if p == 14:\n",
    "        p+=1\n",
    "hamilton"
   ]
  },
  {
   "cell_type": "code",
   "execution_count": 150,
   "id": "61404556",
   "metadata": {},
   "outputs": [
    {
     "data": {
      "text/plain": [
       "[<matplotlib.lines.Line2D at 0x7fc742cb9340>]"
      ]
     },
     "execution_count": 150,
     "metadata": {},
     "output_type": "execute_result"
    },
    {
     "data": {
      "image/png": "[encoded data removed]",
      "text/plain": [
       "<Figure size 640x480 with 1 Axes>"
      ]
     },
     "metadata": {},
     "output_type": "display_data"
    }
   ],
   "source": [
    "import matplotlib.pyplot as py\n",
    "ver_x = [x[0] for x in verstappen]\n",
    "ver_y = [x[1] for x in verstappen]\n",
    "py.plot(ver_x, ver_y, 'bo')\n",
    "\n",
    "lec_x = [x[0] for x in leclerc]\n",
    "lec_y = [x[1] for x in leclerc]\n",
    "py.plot(lec_x, lec_y, 'rv')\n",
    "\n",
    "per_x = [x[0] for x in perez]\n",
    "per_y = [x[1] for x in perez]\n",
    "py.plot(per_x, per_y, 'k^')\n",
    "\n",
    "rus_x = [x[0] for x in russell]\n",
    "rus_y = [x[1] for x in russell]\n",
    "py.plot(rus_x, rus_y, 'g<')\n",
    "\n",
    "sai_x = [x[0] for x in sainz]\n",
    "sai_y = [x[1] for x in sainz]\n",
    "py.plot(sai_x, sai_y, 'm>')\n",
    "\n",
    "ham_x = [x[0] for x in hamilton]\n",
    "ham_y = [x[1] for x in hamilton]\n",
    "py.plot(ham_x, ham_y, 'c*')\n",
    "\n"
   ]
  },
  {
   "cell_type": "code",
   "execution_count": null,
   "id": "d27d2b57",
   "metadata": {},
   "outputs": [],
   "source": []
  }
 ],
 "metadata": {
  "kernelspec": {
   "display_name": "Python 3 (ipykernel)",
   "language": "python",
   "name": "python3"
  },
  "language_info": {
   "codemirror_mode": {
    "name": "ipython",
    "version": 3
   },
   "file_extension": ".py",
   "mimetype": "text/x-python",
   "name": "python",
   "nbconvert_exporter": "python",
   "pygments_lexer": "ipython3",
   "version": "3.9.13"
  }
 },
 "nbformat": 4,
 "nbformat_minor": 5
}
